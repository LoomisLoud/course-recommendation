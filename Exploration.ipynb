{
 "cells": [
  {
   "cell_type": "markdown",
   "metadata": {},
   "source": [
    "# Exploration done on the EPFL recommender system"
   ]
  },
  {
   "cell_type": "code",
   "execution_count": null,
   "metadata": {},
   "outputs": [],
   "source": [
    "from IPython.core.display import display, HTML\n",
    "import configparser\n",
    "import mysql.connector as sql\n",
    "import pandas as pd\n",
    "import numpy as np\n",
    "%config InlineBackend.figure_format = 'retina'\n",
    "\n",
    "# Read the confidential token.\n",
    "credentials = configparser.ConfigParser()\n",
    "credentials.read('credentials.ini')\n",
    "db_connection = sql.connect(host=credentials.get('mysql', 'url'),\n",
    "                            database='semester_project_romain',\n",
    "                            user=credentials.get('mysql', 'username'),\n",
    "                            password=credentials.get('mysql', 'password'))"
   ]
  },
  {
   "cell_type": "code",
   "execution_count": null,
   "metadata": {
    "scrolled": true
   },
   "outputs": [],
   "source": [
    "all_info = \"\"\"\n",
    "            select distinct \n",
    "                PersonID, \n",
    "                PedagogicalCode, \n",
    "                StudyDomain, \n",
    "                UnitName, \n",
    "                UnitID,\n",
    "                SubjectName, \n",
    "                SubjectID,\n",
    "                SectionName, \n",
    "                YearName,\n",
    "                CourseCode\n",
    "            from \n",
    "                course_enrolments_with_info \n",
    "            where \n",
    "                UnitName like \"%ommunication%\" \n",
    "                and \n",
    "                LevelName = \"Master\"\n",
    "                and (YearName = \"2010-2011\"\n",
    "                or YearName = \"2011-2012\"\n",
    "                or YearName = \"2012-2013\"\n",
    "                or YearName = \"2013-2014\"\n",
    "                or YearName = \"2014-2015\"\n",
    "                or YearName = \"2015-2016\")\n",
    "            \"\"\"\n",
    "all_df = pd.read_sql(all_info, con=db_connection)\n",
    "all_df"
   ]
  },
  {
   "cell_type": "code",
   "execution_count": null,
   "metadata": {},
   "outputs": [],
   "source": [
    "registrations_df = all_df.set_index(['SubjectName', 'YearName'])\n",
    "all_df_registrations = registrations_df.groupby(['SubjectName', 'YearName']).size()\n",
    "\n",
    "registrations_df['Registration'] = all_df_registrations\n",
    "registrations_df = registrations_df.reset_index()\n",
    "registrations_df = registrations_df.set_index(['SubjectName', 'YearName', 'PersonID']).sort_index()\n",
    "registrations = registrations_df.sort_values(ascending=False, by='Registration')"
   ]
  },
  {
   "cell_type": "code",
   "execution_count": null,
   "metadata": {},
   "outputs": [],
   "source": [
    "def series_to_integers(series):\n",
    "    return pd.to_numeric(series, downcast='integer')\n",
    "\n",
    "courses_matrix = all_df[['PersonID', 'SubjectName']]\n",
    "courses_matrix = courses_matrix.drop_duplicates()\n",
    "courses_matrix = courses_matrix.set_index(['PersonID', 'SubjectName'])\n",
    "courses_matrix['joined'] = 1\n",
    "courses_matrix = courses_matrix.reset_index().pivot(index='PersonID', columns='SubjectName', values='joined')\n",
    "courses_matrix = courses_matrix.fillna(0)\n",
    "courses_matrix.apply(series_to_integers)"
   ]
  }
 ],
 "metadata": {
  "kernelspec": {
   "display_name": "Python 3",
   "language": "python",
   "name": "python3"
  },
  "language_info": {
   "codemirror_mode": {
    "name": "ipython",
    "version": 3
   },
   "file_extension": ".py",
   "mimetype": "text/x-python",
   "name": "python",
   "nbconvert_exporter": "python",
   "pygments_lexer": "ipython3",
   "version": "3.6.2"
  }
 },
 "nbformat": 4,
 "nbformat_minor": 2
}
